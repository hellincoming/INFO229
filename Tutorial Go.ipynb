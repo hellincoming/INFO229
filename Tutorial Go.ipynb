{
 "cells": [
  {
   "cell_type": "markdown",
   "metadata": {},
   "source": [
    "# Tutorial GO (Golang)"
   ]
  },
  {
   "cell_type": "markdown",
   "metadata": {},
   "source": [
    "## ¿Que es go? \n",
    "Go es un lenguaje de programacion de codigo abierto que permite que funciona como una mezcla entre python y C permitiendo manejo de punteros y ademas manejo de concurrencia. Otra caracteristica que tiene es que posee Tipificacion dinamica del tipo duck Typing. Por lo que no debemos definir el tipo de variable salvo variables especificas.\n",
    "En este tutorial lo hare orientada la instalacion y ejecucion en linux\n",
    "## Requisitos\n",
    "Linux 18.04 o superior\n",
    "## Instalacion"
   ]
  },
  {
   "cell_type": "code",
   "execution_count": null,
   "metadata": {},
   "outputs": [],
   "source": [
    "sudo snap install go --classic"
   ]
  },
  {
   "cell_type": "markdown",
   "metadata": {},
   "source": [
    "Instalamos Go y ahora creamos una carpeta donde ejecutaremos nuestros programas de go ademas añadiremos las direcciones de GO a dicha carpeta"
   ]
  },
  {
   "cell_type": "raw",
   "metadata": {},
   "source": [
    "mkdir ~/go\n",
    "export GOPATH=$HOME/go\n",
    "export GOBIN=$GOPATH/bin\n",
    "source ~/.profile"
   ]
  },
  {
   "cell_type": "markdown",
   "metadata": {},
   "source": [
    "## Verificar instalacion"
   ]
  },
  {
   "cell_type": "code",
   "execution_count": null,
   "metadata": {},
   "outputs": [],
   "source": [
    "go version"
   ]
  },
  {
   "cell_type": "markdown",
   "metadata": {},
   "source": [
    "## Primer programa\n",
    "creamos un archivo en la carpeta src dentro de la carpeta que antes declaramos para utilizar go"
   ]
  },
  {
   "cell_type": "code",
   "execution_count": null,
   "metadata": {},
   "outputs": [],
   "source": [
    "$ mkdir -p ~/go/src/PrimerPrograma\n",
    "$ nano ~/go_proyecto/src/PrimerPrograma/HolaMundo.go"
   ]
  },
  {
   "cell_type": "markdown",
   "metadata": {},
   "source": [
    "## Codigo HolaMundo"
   ]
  },
  {
   "cell_type": "code",
   "execution_count": null,
   "metadata": {},
   "outputs": [],
   "source": [
    "package main\n",
    "import \"fmt\"\n",
    "func main() {\n",
    "    fmt.Printf(\"Hola Mundo info229\\n\")\n",
    "}"
   ]
  },
  {
   "cell_type": "markdown",
   "metadata": {},
   "source": [
    "## Ejecucion programa"
   ]
  },
  {
   "cell_type": "markdown",
   "metadata": {},
   "source": [
    "Para compilar el programa utilizaremos el siguiente codigo"
   ]
  },
  {
   "cell_type": "code",
   "execution_count": null,
   "metadata": {},
   "outputs": [],
   "source": [
    "go install $GOPATH/src/PrimerPrograma/HolaMundo.go"
   ]
  },
  {
   "cell_type": "markdown",
   "metadata": {},
   "source": [
    "Finalmente lo ejecutaremos con "
   ]
  },
  {
   "cell_type": "code",
   "execution_count": null,
   "metadata": {},
   "outputs": [],
   "source": [
    "$GOBIN/hola"
   ]
  }
 ],
 "metadata": {
  "kernelspec": {
   "display_name": "Python 3",
   "language": "python",
   "name": "python3"
  },
  "language_info": {
   "codemirror_mode": {
    "name": "ipython",
    "version": 3
   },
   "file_extension": ".py",
   "mimetype": "text/x-python",
   "name": "python",
   "nbconvert_exporter": "python",
   "pygments_lexer": "ipython3",
   "version": "3.8.3"
  }
 },
 "nbformat": 4,
 "nbformat_minor": 4
}
