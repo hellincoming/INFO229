{
 "cells": [
  {
   "cell_type": "markdown",
   "metadata": {},
   "source": [
    "# SGBD no relacionales"
   ]
  },
  {
   "cell_type": "markdown",
   "metadata": {},
   "source": [
    "La principal caracteristica de estos sistemas de base de datos es que no utilizan lenguaje mySQL par realizar las consultas. Además no requieren estructuras fijas como por ejemplo tablas.\n",
    "En este caso utilizare como ejemplo redis en Ubuntu\n",
    "\n",
    "Instalacion:"
   ]
  },
  {
   "cell_type": "code",
   "execution_count": null,
   "metadata": {},
   "outputs": [],
   "source": [
    "sudo apt-get update\n",
    "sudo apt-get install redis-server"
   ]
  },
  {
   "cell_type": "markdown",
   "metadata": {},
   "source": [
    "luego iniciamos redis y revisamos su funcionamiento con los siguientes comandos"
   ]
  },
  {
   "cell_type": "code",
   "execution_count": null,
   "metadata": {},
   "outputs": [],
   "source": [
    "redis-server\n",
    "redis-cli"
   ]
  },
  {
   "cell_type": "markdown",
   "metadata": {},
   "source": [
    "Esto nos permitira entrar en la base de datos acontinuacion comprobaremos con un ping la respuesta del servidor deberia ser PONG"
   ]
  },
  {
   "cell_type": "code",
   "execution_count": null,
   "metadata": {},
   "outputs": [],
   "source": [
    "ping"
   ]
  },
  {
   "cell_type": "markdown",
   "metadata": {},
   "source": [
    "Ahora cambiaremos un parametro de la configuracion para que se guarde cada vez que se realize una accion se guardara la base de datos"
   ]
  },
  {
   "cell_type": "code",
   "execution_count": null,
   "metadata": {},
   "outputs": [],
   "source": [
    "config set appendonly yes"
   ]
  },
  {
   "cell_type": "markdown",
   "metadata": {},
   "source": [
    "Tambien podemos guardar manualmente utilizando save\n",
    "Ahora procesademos a crear una base de datos y añadirle entradas en este caso sera un string\n",
    "Primero crearemos una base de datos llamada test. Al ser una base de datos no relacional podemos \"usar\" cada key que creemos como una base de datos. Primero crearemos una base de datos luego ingresaremos a ella y ingresaremos informacion"
   ]
  },
  {
   "cell_type": "code",
   "execution_count": null,
   "metadata": {},
   "outputs": [],
   "source": [
    "set test 1\n",
    "select 1\n",
    "set 1 \"hola\"\n",
    "set 2 \"mundo\""
   ]
  },
  {
   "cell_type": "markdown",
   "metadata": {},
   "source": [
    "Para agregar mas de una variable por linea y ademas mostrar mas de un dato podemos usar los comandos mset y mget"
   ]
  },
  {
   "cell_type": "code",
   "execution_count": null,
   "metadata": {},
   "outputs": [],
   "source": [
    "mget 1 2\n",
    "mset 2 \"info\" 3 \"229\""
   ]
  },
  {
   "cell_type": "markdown",
   "metadata": {},
   "source": [
    "Tambien podemos retroceder en la base usando select 0 una forma mas facil de verlo es que cada key que creemos es una como una  carpeta con un valor asociado\n",
    "Algo util que se puede hacer en redis es crear una lista en una base de datos\n",
    "Comandos utiles:"
   ]
  },
  {
   "cell_type": "code",
   "execution_count": null,
   "metadata": {},
   "outputs": [],
   "source": [
    "lpush key valor\n",
    "lrange key [n,m] imprime los valores de la lista entre el rango n,m\n",
    "linsert key before \"x\" \"y\" agrega y a la lista antes de \"x\"\n",
    "lrem key 0 \"x\" remueve de la lista las entradas con valor \"x\""
   ]
  },
  {
   "cell_type": "markdown",
   "metadata": {},
   "source": [
    "Otra opcion es crear un Hash asi podemos en una sola entrada agregar varios valores para por ejemplo guardar un usuario"
   ]
  },
  {
   "cell_type": "code",
   "execution_count": null,
   "metadata": {},
   "outputs": [],
   "source": [
    "hset user1 nombre \"rey\" email \"rmisterio@example.com\" password \"619\"\n",
    "hgetall user1 (muestra todos los valores asociados al user1)\n",
    "hvals user1 (muestra los valores guardados en el hash)\n",
    "hykeys user1 (muestra los keys del hash user1)\n",
    "hdel user1 (borra todo el hash user1)"
   ]
  },
  {
   "cell_type": "code",
   "execution_count": null,
   "metadata": {},
   "outputs": [],
   "source": []
  }
 ],
 "metadata": {
  "kernelspec": {
   "display_name": "Python 3",
   "language": "python",
   "name": "python3"
  },
  "language_info": {
   "codemirror_mode": {
    "name": "ipython",
    "version": 3
   },
   "file_extension": ".py",
   "mimetype": "text/x-python",
   "name": "python",
   "nbconvert_exporter": "python",
   "pygments_lexer": "ipython3",
   "version": "3.8.3"
  }
 },
 "nbformat": 4,
 "nbformat_minor": 4
}
